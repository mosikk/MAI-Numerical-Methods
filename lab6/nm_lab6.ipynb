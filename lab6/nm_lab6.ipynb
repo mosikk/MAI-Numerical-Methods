{
  "cells": [
    {
      "cell_type": "markdown",
      "metadata": {
        "id": "J4nvmmeX5mCI"
      },
      "source": [
        "# Лабораторная работа 6\n",
        "## Начально-краевые задачи для дифференциального уравнения гиперболического типа\n",
        "\n",
        "Моисеенков И.П., М8О-408Б-19"
      ]
    },
    {
      "cell_type": "markdown",
      "metadata": {
        "id": "xQ-MWh-i5rw_"
      },
      "source": [
        "### Задание\n",
        "Используя явную схему крест и неявную схему, решить начально-краевую задачу для дифференциального уравнения гиперболического типа. Осуществить реализацию трех вариантов аппроксимации граничных условий, содержащих производные: двухточечная аппроксимация с первым порядком, трехточечная аппроксимация со вторым порядком, двухточечная аппроксимация со вторым порядком. В различные моменты времени вычислить погрешность численного решения путем сравнения результатов с приведенным в задании аналитическим решением U(x, t).\n",
        "\n",
        "Вариант 3.\n",
        "\n",
        "$\\large\\frac{\\partial^2 u}{\\partial t^2} = \\frac{\\partial^2 u}{\\partial x^2} - 3u$\n",
        "\n",
        "$u(0, t) = sin(2t)$\n",
        "\n",
        "$u(\\pi, t) = -sin(2t)$\n",
        "\n",
        "$u(x, 0) = 0$\n",
        "\n",
        "$u_t(x, 0) = 2cos(x)$\n",
        "\n",
        "Аналитическое решение: $U(x, t) = cos(x)sin(2t)$"
      ]
    },
    {
      "cell_type": "code",
      "execution_count": null,
      "metadata": {
        "id": "5jCwwlhG5Q1_"
      },
      "outputs": [],
      "source": [
        "import math\n",
        "import numpy as np\n",
        "import matplotlib.pyplot as plt"
      ]
    },
    {
      "cell_type": "code",
      "execution_count": null,
      "metadata": {
        "id": "RnTX3B9J6bCN"
      },
      "outputs": [],
      "source": [
        "a = 1\n",
        "\n",
        "x_begin = 0\n",
        "x_end = math.pi\n",
        "\n",
        "t_begin = 0\n",
        "t_end = 5\n",
        "\n",
        "h = 0.01\n",
        "sigma = 1"
      ]
    },
    {
      "cell_type": "markdown",
      "metadata": {
        "id": "rvVP6NWG-Xnt"
      },
      "source": [
        "Начальные условия:"
      ]
    },
    {
      "cell_type": "code",
      "execution_count": null,
      "metadata": {
        "id": "UTPa0uYk-WEp"
      },
      "outputs": [],
      "source": [
        "# boundary conditions\n",
        "def phi_0(t):\n",
        "    return math.sin(2*t)\n",
        "\n",
        "def phi_1(t):\n",
        "    return -math.sin(2*t)\n",
        "\n",
        "# initial conditions\n",
        "def psi_0(x):\n",
        "    return 0\n",
        "\n",
        "def psi_1(x):\n",
        "    return 2 * math.cos(x)\n",
        "\n",
        "def solution(x, t):\n",
        "    return math.cos(x) * math.sin(2*t)"
      ]
    },
    {
      "cell_type": "markdown",
      "metadata": {
        "id": "s45FGEY---kE"
      },
      "source": [
        "## Аналитическое решение\n",
        "\n",
        "Подготовим ответ, полученный аналитическим способом. С ним будем сравнивать численные методы"
      ]
    },
    {
      "cell_type": "code",
      "execution_count": null,
      "metadata": {
        "id": "Y2aCaTG2-9ax"
      },
      "outputs": [],
      "source": [
        "def get_analytical_solution(\n",
        "    x_range, # (x_begin, x_end)\n",
        "    t_range, # (t_begin, t_end)\n",
        "    h, # len of cell by x\n",
        "    sigma=sigma, # coefficient sigma\n",
        "):\n",
        "    \"\"\"\n",
        "    Get analytical solution of hyperbolic DE\n",
        "    Returns matrix U with values of function\n",
        "    \"\"\"\n",
        "    tau = np.sqrt(sigma * h**2) # len of cell by t\n",
        "    x = np.arange(*x_range, h)\n",
        "    t = np.arange(*t_range, tau)\n",
        "\n",
        "    res = np.zeros((len(t), len(x)))\n",
        "    for idx in range(len(x)):\n",
        "        for idt in range(len(t)):\n",
        "            res[idt][idx] = solution(x[idx], t[idt])\n",
        "    \n",
        "    return res"
      ]
    },
    {
      "cell_type": "code",
      "execution_count": null,
      "metadata": {
        "id": "5IUHcX-m_GjB"
      },
      "outputs": [],
      "source": [
        "analytical_solution = get_analytical_solution(\n",
        "    x_range=(x_begin, x_end),\n",
        "    t_range=(t_begin, t_end),\n",
        "    h=h,\n",
        "    sigma=sigma,\n",
        ")"
      ]
    },
    {
      "cell_type": "markdown",
      "metadata": {
        "id": "LZzNjsvbsTf3"
      },
      "source": [
        "Будем складывать все решения в словарь, чтобы потом удобнее было строить графики"
      ]
    },
    {
      "cell_type": "code",
      "execution_count": null,
      "metadata": {
        "id": "bMiEtFi0sUB2"
      },
      "outputs": [],
      "source": [
        "solutions = dict()\n",
        "solutions[\"analytical solution\"] = analytical_solution"
      ]
    },
    {
      "cell_type": "markdown",
      "metadata": {
        "id": "jMFBPRxx_NgG"
      },
      "source": [
        "Функция для вычисления погрешности - максимального модуля ошибки"
      ]
    },
    {
      "cell_type": "code",
      "execution_count": null,
      "metadata": {
        "id": "Mzws4rze_IHo"
      },
      "outputs": [],
      "source": [
        "def max_abs_error(A, B):\n",
        "    \"\"\"\n",
        "    Calculate max absolute error of elements of matrices A and B\n",
        "    \"\"\"\n",
        "    assert A.shape == B.shape\n",
        "    return abs(A - B).max()"
      ]
    },
    {
      "cell_type": "markdown",
      "metadata": {
        "id": "4Il0P4-tsZbC"
      },
      "source": [
        "И среднего модуля ошибки:"
      ]
    },
    {
      "cell_type": "code",
      "execution_count": null,
      "metadata": {
        "id": "FayIWrMJsa5n"
      },
      "outputs": [],
      "source": [
        "def mean_abs_error(A, B):\n",
        "    \"\"\"\n",
        "    Calculate mean absolute error of elements of matrices A and B\n",
        "    \"\"\"\n",
        "    assert A.shape == B.shape\n",
        "    return abs(A - B).mean()"
      ]
    },
    {
      "cell_type": "markdown",
      "metadata": {
        "id": "jw3SxD--_Qeo"
      },
      "source": [
        "Функция для построения результата - функций U(x), полученных разыми методами, при заданном времени t."
      ]
    },
    {
      "cell_type": "code",
      "execution_count": null,
      "metadata": {
        "id": "t6dT6V4a_Oyu"
      },
      "outputs": [],
      "source": [
        "def plot_results(\n",
        "    solutions, # dict: solutions[method name] = solution\n",
        "    time, # moment of time\n",
        "    x_range, # (x_begin, x_end)\n",
        "    t_range, # (t_bein, t_end)\n",
        "    h, # len of cell by x\n",
        "    sigma, # coefficient sigma\n",
        "):\n",
        "    tau = np.sqrt(sigma * h**2) # len of cell by t\n",
        "    x = np.arange(*x_range, h)\n",
        "    times = np.arange(*t_range, tau)\n",
        "    cur_t_id = abs(times - time).argmin()\n",
        "\n",
        "    plt.figure(figsize=(15, 9))\n",
        "    for method_name, solution in solutions.items():\n",
        "        plt.plot(x, solution[cur_t_id], label=method_name)\n",
        "\n",
        "    plt.legend()\n",
        "    plt.grid()\n",
        "    plt.show()"
      ]
    },
    {
      "cell_type": "markdown",
      "metadata": {
        "id": "crC3A95r_aSA"
      },
      "source": [
        "Зависимость погрешности от времени"
      ]
    },
    {
      "cell_type": "code",
      "execution_count": null,
      "metadata": {
        "id": "14c0M7YC_UTm"
      },
      "outputs": [],
      "source": [
        "def plot_errors_from_time(\n",
        "    solutions, # dict: solutions[method name] = solution\n",
        "    analytical_solution_name, # for comparing\n",
        "    t_range, # (t_bein, t_end)\n",
        "    h, # len of cell by x\n",
        "    sigma, # coefficient sigma\n",
        "):\n",
        "    \"\"\"\n",
        "    Plot max_abs_error = f(time)\n",
        "    \"\"\"\n",
        "    tau = np.sqrt(sigma * h**2) # len of cell by t\n",
        "    t = np.arange(*t_range, tau)\n",
        "\n",
        "    plt.figure(figsize=(15, 9))\n",
        "    for method_name, solution in solutions.items():\n",
        "        if method_name == analytical_solution_name:\n",
        "            continue\n",
        "        max_abs_errors = np.array([\n",
        "            max_abs_error(solution[i], solutions[analytical_solution_name][i])\n",
        "            for i in range(len(t))\n",
        "        ])\n",
        "        plt.plot(t, max_abs_errors, label=method_name)\n",
        "\n",
        "    plt.xlabel('time')\n",
        "    plt.ylabel('Max abs error')\n",
        "\n",
        "    plt.legend()\n",
        "    plt.grid()\n",
        "    plt.show()"
      ]
    },
    {
      "cell_type": "markdown",
      "metadata": {
        "id": "4647nBia_jI9"
      },
      "source": [
        "### Явная конечно-разностная схема\n",
        "\n",
        "В исходном уравнении перейдем от производных к их численным приближениям. Вторую производную будем аппроксимировать по значениям нижнего временного слоя.\n",
        "\n",
        "Получим рекуррентное соотношение:\n",
        "\n",
        "$\\large u_j^{k+1} = \\sigma(u_{j+1}^k-2u_j^k+u_{j-1}^k) + (2 - 3\\tau^2)u_j^k - u_j^{k-1}$\n",
        "\n",
        "\n",
        "где $\\large\\sigma = \\frac{\\tau^2}{h^2}$.\n",
        "\n",
        "Для нижнего временного ряда:\n",
        "\n",
        "$u_j^0 = \\psi_1(x_j)$\n",
        "\n",
        "$u_j^1 = \\psi_1(x_j) + \\psi_2(x_j)\\tau$\n",
        "\n",
        "Остальные значения $u$ в нижнем временном ряду известны из начальных условий. Далее можем в цикле проходиться по сетке и рекурретно считать значения в ней по полученной формуле.\n",
        "\n",
        "*Примечание: можно было повысить порядок аппроксимации для $u_j^1$, но т.к. в моем случае $\\psi_1 = 0$, то и вторая производная от нее будет равна нулю, а следовательно повышение порядка бессмысленно*"
      ]
    },
    {
      "cell_type": "code",
      "execution_count": null,
      "metadata": {
        "id": "ftnjwsRMILET"
      },
      "outputs": [],
      "source": [
        "def explicit_finite_difference_method(\n",
        "    x_range, # (x_begin, x_end)\n",
        "    t_range, # (t_begin, t_end)\n",
        "    h, # len of cell by x\n",
        "    sigma, # coefficient sigma\n",
        "    phi_0=phi_0, # boundary condition 0\n",
        "    phi_1=phi_1, # boundary condition 1\n",
        "    psi_0=psi_0, # initial condition 0,\n",
        "    psi_1=psi_1, # initial condition 1 (first derivative),\n",
        "):\n",
        "    \"\"\"\n",
        "    Solves hyperbolic DE using explicit schema of finite difference method.\n",
        "    Returns matrix U with values of function\n",
        "    \"\"\"\n",
        "    tau = np.sqrt(sigma * h**2) # len of cell by t\n",
        "    x = np.arange(*x_range, h)\n",
        "    t = np.arange(*t_range, tau)\n",
        "\n",
        "    res = np.zeros((len(t), len(x)))\n",
        "    # row 0 -> use initial condition 0\n",
        "    for col_id in range(len(x)):\n",
        "        res[0][col_id] = psi_0(x[col_id])\n",
        "    \n",
        "    # row 1 -> use approximation\n",
        "    for col_id in range(len(x)):\n",
        "        res[1][col_id] = psi_0(x[col_id]) + tau * psi_1(x[col_id])\n",
        "\n",
        "    for row_id in range(2, len(t)):\n",
        "        # col 0 -> use boundary condition 0\n",
        "        res[row_id][0] = phi_0(t[row_id])\n",
        "        # cols 1..n-1 -> use explicit schema\n",
        "        for col_id in range(1, len(x)-1):\n",
        "            res[row_id][col_id] = (\n",
        "                sigma * (\n",
        "                    res[row_id-1][col_id+1] \n",
        "                    - 2 * res[row_id-1][col_id]\n",
        "                    + res[row_id-1][col_id-1]\n",
        "                )\n",
        "                + (2 - 3 * tau**2) * res[row_id-1][col_id]\n",
        "                - res[row_id-2][col_id]\n",
        "            )\n",
        "        # col n -> use boundary condition 1\n",
        "        res[row_id][-1] = phi_1(t[row_id])\n",
        "    return res"
      ]
    },
    {
      "cell_type": "code",
      "execution_count": null,
      "metadata": {
        "id": "jPY3T5HZKM4w"
      },
      "outputs": [],
      "source": [
        "explicit_solution = explicit_finite_difference_method(\n",
        "    x_range=(x_begin, x_end),\n",
        "    t_range=(t_begin, t_end),\n",
        "    h=h,\n",
        "    sigma=sigma,\n",
        ")"
      ]
    },
    {
      "cell_type": "code",
      "execution_count": null,
      "metadata": {
        "id": "BcBKu7Xzs0J9"
      },
      "outputs": [],
      "source": [
        "solutions[\"explicit schema\"] = explicit_solution"
      ]
    },
    {
      "cell_type": "markdown",
      "metadata": {
        "id": "5dcNt-l5KgYi"
      },
      "source": [
        "Погрешность в сравнении с аналитическим решением:"
      ]
    },
    {
      "cell_type": "code",
      "execution_count": null,
      "metadata": {
        "colab": {
          "base_uri": "https://localhost:8080/"
        },
        "id": "14lW3SHCKR6u",
        "outputId": "0fbf213d-6f2d-440f-feba-bde3e089741b"
      },
      "outputs": [
        {
          "name": "stdout",
          "output_type": "stream",
          "text": [
            "max abs error = 0.00010771631567718654\n",
            "mean abs error = 2.9333840606808786e-05\n"
          ]
        }
      ],
      "source": [
        "print(f'max abs error = {max_abs_error(explicit_solution, analytical_solution)}')\n",
        "print(f'mean abs error = {mean_abs_error(explicit_solution, analytical_solution)}')"
      ]
    },
    {
      "cell_type": "markdown",
      "metadata": {
        "id": "258ARpUElN8g"
      },
      "source": [
        "Явная схема устойчива при условии $\\sigma = \\frac{\\tau^2}{h^2} < 1$"
      ]
    },
    {
      "cell_type": "markdown",
      "metadata": {
        "id": "7kUrpIM0lqiR"
      },
      "source": [
        "### Неявная конечно-разностная схема\n",
        "\n",
        "В исходном уравнении перейдем от производных к их численным приближениям. Вторую производную будем аппроксимировать по значениям верхнего временного слоя.\n",
        "\n",
        "Чтобы получить значения $u$ в одном временном ряду, необходимо решить систему уравнений:\n",
        "\n",
        "$\\large\\begin{equation*}\n",
        " \\begin{cases}\n",
        "   b_1u_1^{k+1}+c_1u_2^{k+1}=d_1, ~~~j=1, \n",
        "   \\\\\n",
        "   a_ju_{j-1}^{k+1}+b_ju_j^{k+1}+c_ju_{j+1}^{k+1}=d_j, ~~~j=2\\dots N-2,\n",
        "   \\\\\n",
        "   a_{N-1}u_{N-2}^{k+1}+b_{N-1}u_{N-1}^{k+1}=d_{N-1}, ~~~j=N-1.\n",
        " \\end{cases}\n",
        "\\end{equation*}$\n",
        "\n",
        "$a_j=c_j=\\sigma$\n",
        "\n",
        "$b_j=-(1 + 2\\sigma + 3\\tau^2)$\n",
        "\n",
        "$d_j = -2u_j^k + u_j^{k-1}, ~~~j=2\\dots N-2$\n",
        "\n",
        "$d_1=-(u_1^k+\\sigma\\phi_0(t^{k+1}))$\n",
        "\n",
        "$d_{N-1}=-(u_{N-1}^k+\\sigma\\phi_1(t^{k+1}))$\n",
        "\n",
        "\n",
        "Это трехдиагональная СЛАУ, которую можно решить методом прогонки."
      ]
    },
    {
      "cell_type": "code",
      "execution_count": null,
      "metadata": {
        "id": "-XS4isvjK4TH"
      },
      "outputs": [],
      "source": [
        "# stolen from lab 1-2\n",
        "def tridiagonal_solve(A, b):\n",
        "    \"\"\"\n",
        "    Solves Ax=b, where A - tridiagonal matrix\n",
        "    Returns x\n",
        "    \"\"\"\n",
        "    n = len(A)\n",
        "    # Step 1. Forward\n",
        "    v = [0 for _ in range(n)]\n",
        "    u = [0 for _ in range(n)]\n",
        "    v[0] = A[0][1] / -A[0][0]\n",
        "    u[0] = b[0] / A[0][0]\n",
        "    for i in range(1, n-1):\n",
        "        v[i] = A[i][i+1] / (-A[i][i] - A[i][i-1] * v[i-1])\n",
        "        u[i] = (A[i][i-1] * u[i-1] - b[i]) / (-A[i][i] - A[i][i-1] * v[i-1])\n",
        "    v[n-1] = 0\n",
        "    u[n-1] = (A[n-1][n-2] * u[n-2] - b[n-1]) / (-A[n-1][n-1] - A[n-1][n-2] * v[n-2])\n",
        "\n",
        "    # Step 2. Backward\n",
        "    x = [0 for _ in range(n)]\n",
        "    x[n-1] = u[n-1]\n",
        "    for i in range(n-1, 0, -1):\n",
        "        x[i-1] = v[i-1] * x[i] + u[i-1]\n",
        "    return np.array(x)"
      ]
    },
    {
      "cell_type": "code",
      "execution_count": null,
      "metadata": {
        "id": "QqSqZqzmluVF"
      },
      "outputs": [],
      "source": [
        "def implicit_finite_difference_method(\n",
        "    x_range, # (x_begin, x_end)\n",
        "    t_range, # (t_begin, t_end)\n",
        "    h, # len of cell by x\n",
        "    sigma, # coefficient sigma\n",
        "    phi_0=phi_0, # boundary condition 0\n",
        "    phi_1=phi_1, # boundary condition 1\n",
        "    psi_0=psi_0, # initial condition 0,\n",
        "    psi_1=psi_1, # initial condition 1 (first derivative),\n",
        "):\n",
        "    \"\"\"\n",
        "    Solves hyperbolic DE using implicit schema of finite difference method.\n",
        "    Returns matrix U with values of function\n",
        "    \"\"\"\n",
        "    tau = np.sqrt(sigma * h**2) # len of cell by t\n",
        "    x = np.arange(*x_range, h)\n",
        "    t = np.arange(*t_range, tau)\n",
        "    res = np.zeros((len(t), len(x)))\n",
        "\n",
        "    # row 0 -> use initial condition\n",
        "    for col_id in range(len(x)):\n",
        "        res[0][col_id] = psi_0(x[col_id])\n",
        "    \n",
        "    # row 1 -> use approximation\n",
        "    for col_id in range(len(x)):\n",
        "        res[1][col_id] = psi_0(x[col_id]) + tau * psi_1(x[col_id])\n",
        "\n",
        "    for row_id in range(2, len(t)):\n",
        "        A = np.zeros((len(x)-2, len(x)-2)) # first and last elements will be counted with boundary conditions\n",
        "\n",
        "        # create system of equations for implicit schema\n",
        "        A[0][0] = -(1 + 2*sigma + 3*tau**2)\n",
        "        A[0][1] = sigma\n",
        "        for i in range(1, len(A) - 1):\n",
        "            A[i][i-1] = sigma\n",
        "            A[i][i] = -(1 + 2*sigma + 3*tau**2)\n",
        "            A[i][i+1] = sigma\n",
        "        A[-1][-2] = sigma\n",
        "        A[-1][-1] = -(1 + 2*sigma + 3*tau**2)\n",
        "\n",
        "        # vector b is previous line except first and last elements\n",
        "        b = -2 * res[row_id-1][1:-1] + res[row_id-2][1:-1]\n",
        "        # apply boundary conditions\n",
        "        b[0] -= sigma * phi_0(t[row_id])\n",
        "        b[-1] -= sigma * phi_1(t[row_id])\n",
        "\n",
        "        res[row_id][0] = phi_0(t[row_id])\n",
        "        res[row_id][-1] = phi_1(t[row_id])\n",
        "        res[row_id][1:-1] = tridiagonal_solve(A, b)\n",
        "\n",
        "    return res"
      ]
    },
    {
      "cell_type": "code",
      "execution_count": null,
      "metadata": {
        "id": "Gpp3JZn9qrW8"
      },
      "outputs": [],
      "source": [
        "implicit_solution = implicit_finite_difference_method(\n",
        "    x_range=(x_begin, x_end),\n",
        "    t_range=(t_begin, t_end),\n",
        "    h=h,\n",
        "    sigma=sigma,\n",
        ")"
      ]
    },
    {
      "cell_type": "code",
      "execution_count": null,
      "metadata": {
        "id": "0R6tAf0ItLjn"
      },
      "outputs": [],
      "source": [
        "solutions[\"implicit schema\"] = implicit_solution"
      ]
    },
    {
      "cell_type": "markdown",
      "metadata": {
        "id": "EWcyc7eIqzju"
      },
      "source": [
        "Погрешность в сравнении с аналитическим решением:"
      ]
    },
    {
      "cell_type": "code",
      "execution_count": null,
      "metadata": {
        "colab": {
          "base_uri": "https://localhost:8080/"
        },
        "id": "8ImhqFXsqvqO",
        "outputId": "2a195ec6-15bb-4edc-d4a1-2d6c778c7889"
      },
      "outputs": [
        {
          "name": "stdout",
          "output_type": "stream",
          "text": [
            "max abs error = 0.041387088530764636\n",
            "mean abs error = 0.01164499263579912\n"
          ]
        }
      ],
      "source": [
        "print(f'max abs error = {max_abs_error(implicit_solution, analytical_solution)}')\n",
        "print(f'mean abs error = {mean_abs_error(implicit_solution, analytical_solution)}')"
      ]
    },
    {
      "cell_type": "markdown",
      "metadata": {
        "id": "2r97XAh7tVQO"
      },
      "source": [
        "## Визуализация\n",
        "\n",
        "Посмотрим на полученные функции при некотором фиксированном моменте времени"
      ]
    },
    {
      "cell_type": "code",
      "execution_count": null,
      "metadata": {
        "colab": {
          "base_uri": "https://localhost:8080/",
          "height": 537
        },
        "id": "GKGJCO5ytXX6",
        "outputId": "ac2a0cbb-199d-4f26-e544-fab8005ff2af"
      },
      "outputs": [
        {
          "data": {
            "image/png": "[encoded data removed]",
            "text/plain": [
              "<Figure size 1080x648 with 1 Axes>"
            ]
          },
          "metadata": {
            "needs_background": "light"
          },
          "output_type": "display_data"
        }
      ],
      "source": [
        "plot_results(\n",
        "    solutions=solutions,\n",
        "    time=0.5,\n",
        "    x_range=(x_begin, x_end),\n",
        "    t_range=(t_begin, t_end),\n",
        "    h=h,\n",
        "    sigma=sigma,\n",
        ")"
      ]
    },
    {
      "cell_type": "markdown",
      "metadata": {
        "id": "7wfVg2EztcZl"
      },
      "source": [
        "Посмотрим, как меняется зависимость погрешности с течением времени"
      ]
    },
    {
      "cell_type": "code",
      "execution_count": null,
      "metadata": {
        "colab": {
          "base_uri": "https://localhost:8080/",
          "height": 551
        },
        "id": "dFg9Dvkhtc-B",
        "outputId": "51369509-d873-4d73-8b9c-4e3bfe25fd91"
      },
      "outputs": [
        {
          "data": {
            "image/png": "[encoded data removed]",
            "text/plain": [
              "<Figure size 1080x648 with 1 Axes>"
            ]
          },
          "metadata": {
            "needs_background": "light"
          },
          "output_type": "display_data"
        }
      ],
      "source": [
        "plot_errors_from_time(\n",
        "    solutions=solutions,\n",
        "    analytical_solution_name=\"analytical solution\",\n",
        "    t_range=(t_begin, t_end),\n",
        "    h=h,\n",
        "    sigma=sigma,\n",
        ")"
      ]
    },
    {
      "cell_type": "markdown",
      "metadata": {
        "id": "-p2t9Ru8_7Rf"
      },
      "source": [
        "## Вывод\n",
        "\n",
        "В данной работе я научился решать начально-краевые задачи для ДУ гиперболического типа двумя способами:\n",
        "* с помощью явной конечно-разностной схемы\n",
        "* с помощью неявной конечно-разностной схемы\n",
        "\n",
        "С помощью каждого метода получилось решить заданное ДУ с приемлемой точностью.\n",
        "\n",
        "Явная конечно-разностная схема легко считается, но она условно устойчива, следовательно результат получится правдивый не при любых параметрах сетки.\n",
        "\n",
        "Неявная конечно-разностная схема считается более сложным образом, но зато она абсолютно устойчива"
      ]
    },
    {
      "cell_type": "code",
      "execution_count": null,
      "metadata": {
        "id": "wwA3sq8yAPrk"
      },
      "outputs": [],
      "source": []
    }
  ],
  "metadata": {
    "colab": {
      "provenance": []
    },
    "kernelspec": {
      "display_name": "Python 3.9.4 64-bit",
      "language": "python",
      "name": "python3"
    },
    "language_info": {
      "name": "python",
      "version": "3.9.4"
    },
    "vscode": {
      "interpreter": {
        "hash": "dd426dfed99da6cb3eeddada32cbe22393fcbce2a3b224045159bf9f02b27406"
      }
    }
  },
  "nbformat": 4,
  "nbformat_minor": 0
}
